{
 "metadata": {
  "name": "ex1"
 },
 "nbformat": 3,
 "worksheets": [
  {
   "cells": [
    {
     "cell_type": "heading",
     "level": 1,
     "source": [
      "Exercise 1"
     ]
    },
    {
     "cell_type": "code",
     "collapsed": false,
     "input": [
      "import sys",
      "sys.path.append(\"../swampy-2.0/\")",
      "from TurtleWorld import *"
     ],
     "language": "python",
     "outputs": [],
     "prompt_number": 47
    },
    {
     "cell_type": "heading",
     "level": 3,
     "source": [
      "1. Write appropriate docstrings for polygon, arc and circle."
     ]
    },
    {
     "cell_type": "code",
     "collapsed": false,
     "input": [
      "def polyline(t, n, length, angle):",
      "    \"\"\"Draw n line segments with the given length and",
      "    angle (in degrees) between them.  t is a turtle.",
      "    \"\"\"",
      "    for i in range(n):",
      "        fd(t,length)",
      "        lt(t,angle)",
      "    ",
      "    print \"polyline \",\"     t -> \",str(t)",
      "    print \"         \",\"     n -> \",str(n)",
      "    print \"         \",\"length -> \",str(length)",
      "    print \"         \",\" angle -> \",str(angle)",
      "    print",
      "",
      "def polygon(t, n, length):",
      "    \"\"\"Draw an n-sided polygon with sides of the given",
      "    length. t is a turtle.",
      "    \"\"\"",
      "    angle = 360.0 / n",
      "    polyline(t, n, length, angle)",
      "    ",
      "def arc(t, r, angle):",
      "    \"\"\"Draw an arc of radus r along the given angle.",
      "    t is a turtle.",
      "    \"\"\"",
      "    length = 2 * math.pi * r / 360",
      "    polyline(t, angle, length, 1)",
      "    print \"arc      \",\"     t -> \",str(t)",
      "    print \"         \",\"     r -> \",str(r)",
      "    print \"         \",\" angle -> \",str(angle)",
      "    print",
      "    ",
      "def circle(t, r):",
      "    \"\"\"Draw a circle of radius r. t is a turtle",
      "    \"\"\"",
      "    arc(t, r, 360)",
      "    print \"circle   \",\"     t -> \",str(t)",
      "    print \"         \",\"     r -> \",str(r)",
      "    "
     ],
     "language": "python",
     "outputs": [
      {
       "output_type": "stream",
       "stream": "stdout",
       "text": [
        ""
       ]
      }
     ],
     "prompt_number": 50
    },
    {
     "cell_type": "heading",
     "level": 3,
     "source": [
      "2. Draw a stack diagram that shows the state of the program while executing circle(bob, radius). You can do the arithmetic by hand or add print statements to the code."
     ]
    },
    {
     "cell_type": "code",
     "collapsed": false,
     "input": [
      "world = TurtleWorld()",
      "bob = Turtle(world)",
      "bob.delay = 0",
      "circle(bob, 50)",
      "",
      "wait_for_user()"
     ],
     "language": "python",
     "outputs": [
      {
       "output_type": "stream",
       "stream": "stdout",
       "text": [
        "polyline       t ->  <TurtleWorld.Turtle object at 0x2a7c4d0>",
        "               n ->  360",
        "          length ->  0.872664625997",
        "           angle ->  1",
        "",
        "arc            t ->  <TurtleWorld.Turtle object at 0x2a7c4d0>",
        "               r ->  50",
        "           angle ->  360",
        "",
        "circle         t ->  <TurtleWorld.Turtle object at 0x2a7c4d0>",
        "               r  ->  50"
       ]
      }
     ],
     "prompt_number": 51
    },
    {
     "cell_type": "code",
     "collapsed": true,
     "input": [],
     "language": "python",
     "outputs": []
    }
   ]
  }
 ]
}