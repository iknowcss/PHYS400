{
 "metadata": {
  "name": "ex9"
 },
 "nbformat": 3,
 "worksheets": [
  {
   "cells": [
    {
     "cell_type": "heading",
     "level": 1,
     "source": [
      "Exercise 8.9"
     ]
    },
    {
     "cell_type": "markdown",
     "source": [
      "A string slice can take a third index that specifies the \"step size;\" that is, the number of",
      "spaces between successive characters. A step size of 2 means every other character; 3 means every",
      "third, etc.",
      "",
      "    >>> fruit = 'banana'",
      "    >>> fruit[0:5:2]",
      "    'bnn'",
      "",
      "A step size of -1 goes through the word backwards, so the slice `[::-1]` generates a reversed string.",
      "Use this idiom to write a one-line version of `is_palindrome` from Exercise 6.6."
     ]
    },
    {
     "cell_type": "code",
     "collapsed": false,
     "input": [
      "# Function defintion",
      "def is_palindrome(word):",
      "    return word == word[::-1]",
      "",
      "# Tests",
      "tests = ['racecar','radar','rally']",
      "for test in tests:",
      "    print \"'\" + test + \"' is\",",
      "    if not is_palindrome(test):",
      "        print \"not\",",
      "    print \"a palindrome\""
     ],
     "language": "python",
     "outputs": [
      {
       "output_type": "stream",
       "stream": "stdout",
       "text": [
        "'racecar' is a palindrome",
        "'radar' is a palindrome",
        "'rally' is not a palindrome"
       ]
      }
     ],
     "prompt_number": 9
    },
    {
     "cell_type": "code",
     "collapsed": true,
     "input": [],
     "language": "python",
     "outputs": []
    }
   ]
  }
 ]
}