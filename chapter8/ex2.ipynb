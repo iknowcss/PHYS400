{
 "metadata": {
  "name": "ex2"
 },
 "nbformat": 3,
 "worksheets": [
  {
   "cells": [
    {
     "cell_type": "heading",
     "level": 1,
     "source": [
      "Exercise 8.2"
     ]
    },
    {
     "cell_type": "markdown",
     "source": [
      "Modify the program to fix the error."
     ]
    },
    {
     "cell_type": "code",
     "collapsed": false,
     "input": [
      "prefixes = 'JKLMNOPQ'",
      "suffix = 'ack'",
      "",
      "for letter in prefixes:",
      "    u = \"\"",
      "    if letter == \"O\" or letter == \"Q\":",
      "        u = \"u\"",
      "    print letter + u + suffix"
     ],
     "language": "python",
     "outputs": [
      {
       "output_type": "stream",
       "stream": "stdout",
       "text": [
        "Jack",
        "Kack",
        "Lack",
        "Mack",
        "Nack",
        "Ouack",
        "Pack",
        "Quack"
       ]
      }
     ],
     "prompt_number": 1
    },
    {
     "cell_type": "code",
     "collapsed": true,
     "input": [],
     "language": "python",
     "outputs": []
    }
   ]
  }
 ]
}