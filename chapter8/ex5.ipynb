{
 "metadata": {
  "name": "ex5"
 },
 "nbformat": 3,
 "worksheets": [
  {
   "cells": [
    {
     "cell_type": "markdown",
     "source": [
      "Encapsulate this code in a function named `count`, and generalize it so that it accepts the string and the letter as arguments.",
      "",
      "    word = 'banana'",
      "    count = 0",
      "    for letter in word:",
      "        if letter == 'a':",
      "            count = count + 1",
      "    print count"
     ]
    },
    {
     "cell_type": "code",
     "collapsed": false,
     "input": [
      "# Count function",
      "def count(word,search):",
      "    \"\"\"Counts the number of times search occurs in ",
      "    word and returns that count",
      "    \"\"\"",
      "    c = 0;",
      "    word = word.lower()",
      "    search = search.lower()",
      "    for l in word:",
      "        if l == search:",
      "            c += 1",
      "    return c",
      "",
      "# Tests",
      "test = [[\"alfalfa\",\"a\"],[\"molly\",\"l\"],[\"jimmy\",\"i\"],[\"lammy\",\"b\"]]",
      "for pair in test:",
      "    c = count(pair[0],pair[1])",
      "    print \"\\\"\" + pair[1] + \"\\\" occurs in \\\"\" + pair[0] + \"\\\"\",",
      "    print str(c) + \" time\" + [\"s\",\"\"][c == 1]",
      "    "
     ],
     "language": "python",
     "outputs": [
      {
       "output_type": "stream",
       "stream": "stdout",
       "text": [
        "\"a\" occurs in \"alfalfa\" 3 times",
        "\"l\" occurs in \"molly\" 2 times",
        "\"i\" occurs in \"jimmy\" 1 time",
        "\"b\" occurs in \"lammy\" 0 times"
       ]
      }
     ],
     "prompt_number": 12
    },
    {
     "cell_type": "code",
     "collapsed": true,
     "input": [],
     "language": "python",
     "outputs": []
    }
   ]
  }
 ]
}