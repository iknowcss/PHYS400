{
 "metadata": {
  "name": "ex6"
 },
 "nbformat": 3,
 "worksheets": [
  {
   "cells": [
    {
     "cell_type": "heading",
     "level": 1,
     "source": [
      "Exercise 8.6"
     ]
    },
    {
     "cell_type": "markdown",
     "source": [
      "Rewrite this function so that instead of traversing the string, it uses the three-parameter",
      "version of `find` from the previous section."
     ]
    },
    {
     "cell_type": "code",
     "collapsed": false,
     "input": [
      "# Find function from previous section",
      "def find(word, letter, start):",
      "    index = start",
      "    while index < len(word):",
      "        if word[index] == letter:",
      "            return index",
      "        index = index + 1",
      "    return -1",
      "",
      "# Count Definition",
      "def count(word, letter):",
      "    \"\"\"Counts the number of times letter occurs in ",
      "    word and returns that count (uses find function)",
      "    \"\"\"",
      "    index = find(word, letter, 0)",
      "    while index > -1:",
      "        c += 1",
      "        index = find(word, letter, index + 1)",
      "    return c",
      "",
      "# Tests",
      "test = [[\"alfalfa\",\"a\"],[\"molly\",\"l\"],[\"jimmy\",\"i\"],[\"lammy\",\"b\"]]",
      "for pair in test:",
      "    c = count(pair[0],pair[1])",
      "    print \"\\\"\" + pair[1] + \"\\\" occurs in \\\"\" + pair[0] + \"\\\"\",",
      "    print str(c) + \" time\" + [\"s\",\"\"][c == 1]"
     ],
     "language": "python",
     "outputs": [
      {
       "output_type": "stream",
       "stream": "stdout",
       "text": [
        "\"a\" occurs in \"alfalfa\" 3 times",
        "\"l\" occurs in \"molly\" 2 times",
        "\"i\" occurs in \"jimmy\" 1 time",
        "\"b\" occurs in \"lammy\" 0 times"
       ]
      }
     ],
     "prompt_number": 1
    },
    {
     "cell_type": "code",
     "collapsed": true,
     "input": [],
     "language": "python",
     "outputs": []
    }
   ]
  }
 ]
}