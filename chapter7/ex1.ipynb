{
 "metadata": {
  "name": "ex1"
 },
 "nbformat": 3,
 "worksheets": [
  {
   "cells": [
    {
     "cell_type": "heading",
     "level": 1,
     "source": [
      "Exercise 7.1"
     ]
    },
    {
     "cell_type": "markdown",
     "source": [
      "Rewrite the function `print_n` from Section 5.8 using iteration instead of recursion.",
      "",
      "    # print_n from Section 5.8",
      "    def print_n(s, n):",
      "        if n <= 0:",
      "            return",
      "        print s",
      "        print_n(s, n-1)"
     ]
    },
    {
     "cell_type": "code",
     "collapsed": false,
     "input": [
      "def print_n(s, n):",
      "    \"\"\"Prints the provided string s a total of n times",
      "    \"\"\"",
      "    while n > 0:",
      "        print s,",
      "        n -= 1"
     ],
     "language": "python",
     "outputs": [],
     "prompt_number": 9
    },
    {
     "cell_type": "code",
     "collapsed": false,
     "input": [
      "print_n(\"na\",16)",
      "print \"BAT-MAN!\""
     ],
     "language": "python",
     "outputs": [
      {
       "output_type": "stream",
       "stream": "stdout",
       "text": [
        "na na na na na na na na na na na na na na na na",
        "BAT-MAN!"
       ]
      }
     ],
     "prompt_number": 10
    }
   ]
  }
 ]
}