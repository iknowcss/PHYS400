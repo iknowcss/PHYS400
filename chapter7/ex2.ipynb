{
 "metadata": {
  "name": "ex2"
 },
 "nbformat": 3,
 "worksheets": [
  {
   "cells": [
    {
     "cell_type": "heading",
     "level": 1,
     "source": [
      "Exercise 7.2"
     ]
    },
    {
     "cell_type": "markdown",
     "source": [
      "Encapsulate this loop in a function called `square_root` that takes `a` as a parameter, chooses a reasonable value of `x`, and returns an estimate of the square root of `a`."
     ]
    },
    {
     "cell_type": "code",
     "collapsed": false,
     "input": [
      "def square_root(a, x):",
      "    \"\"\"Approximates the square root of the parameter a using Newton's method.",
      "    Initial guess is x.",
      "    \"\"\"",
      "    # Make sure everything is a float",
      "    a = float(a)",
      "    x = float(x)",
      "    ep = 0.0000001",
      "    while True:",
      "        y = (x + a / x) / 2.0",
      "        if abs(y - x) <= ep: # If we're close enough, stop",
      "            break;",
      "        else:",
      "            x = y",
      "            ",
      "    # Now return the result",
      "    return x",
      "    ",
      "# Test to make sure that the returned results are nearly correct",
      "# and make sure that when the guess is 100% correct, the correct",
      "# result is returned",
      "test = [[1,3],[2,1],[4,3],[4,2]]",
      "for i in test:",
      "    print \"square_root(\" + str(i[0]) + \", \" + str(i[1]) + \")\\t\u2192 \" + str(square_root(i[0],i[1]))"
     ],
     "language": "python",
     "outputs": [
      {
       "output_type": "stream",
       "stream": "stdout",
       "text": [
        "square_root(1, 3)\t\u2192 1.00000000047",
        "square_root(2, 1)\t\u2192 1.41421356237",
        "square_root(4, 3)\t\u2192 2.00000000003",
        "square_root(4, 2)\t\u2192 2.0"
       ]
      }
     ],
     "prompt_number": 16
    },
    {
     "cell_type": "code",
     "collapsed": true,
     "input": [],
     "language": "python",
     "outputs": []
    }
   ]
  }
 ]
}