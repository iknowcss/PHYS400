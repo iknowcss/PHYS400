{
 "metadata": {
  "name": "ex4.3"
 },
 "nbformat": 3,
 "worksheets": [
  {
   "cells": [
    {
     "cell_type": "heading",
     "level": 1,
     "source": [
      "4.3 Exercises"
     ]
    },
    {
     "cell_type": "code",
     "collapsed": true,
     "input": [
      "import sys",
      "sys.path.append(\"../swampy-2.0/\")",
      "from TurtleWorld import *"
     ],
     "language": "python",
     "outputs": [],
     "prompt_number": 2
    },
    {
     "cell_type": "markdown",
     "source": [
      "**4.3.1**",
      "Write a function called `square` that takes a parameter named `t`, which is a turtle. It should",
      "use the turtle to draw a square.",
      "",
      "Write a function call that passes `bob` as an argument to `square`, and then run the program",
      "again."
     ]
    },
    {
     "cell_type": "code",
     "collapsed": true,
     "input": [
      "# Define the square function",
      "def square(t):",
      "    \"\"\"Draw a square with side length 50.  t is a turtle.",
      "    \"\"\"",
      "    for i in range(4):",
      "        fd(t,50)",
      "        lt(t)",
      "",
      "# Create the turtle",
      "world = TurtleWorld()",
      "bob = Turtle(world)",
      "bob.delay = 0",
      "",
      "# Run the function",
      "square(bob)",
      "wait_for_user()"
     ],
     "language": "python",
     "outputs": [],
     "prompt_number": 4
    },
    {
     "cell_type": "markdown",
     "source": [
      "**4.3.2**",
      "Add another parameter, named `length`, to `square`. Modify the body so length of the sides is",
      "`length`, and then modify the function call to provide a second argument. Run the program",
      "again. Test your program with a range of values for `length`."
     ]
    },
    {
     "cell_type": "code",
     "collapsed": false,
     "input": [
      "# Define the square function with the new length parameter",
      "def square(t, length):",
      "    \"\"\"Draw a square with sides of the specified length.  t is a turtle.",
      "    \"\"\"",
      "    for i in range(4):",
      "        fd(t,length)",
      "        lt(t)",
      "",
      "# Create the turtle",
      "world = TurtleWorld()",
      "bob = Turtle(world)",
      "bob.delay = 0.1",
      "",
      "# Draw some squares of sizes 10, 40, and 90",
      "for i in range(3):",
      "    square(bob,10 * (i + 1) ** 2)",
      "    ",
      "wait_for_user()"
     ],
     "language": "python",
     "outputs": [],
     "prompt_number": 7
    },
    {
     "cell_type": "markdown",
     "source": [
      "**4.3.3**",
      "The functions `lt` and `rt` make 90-degree turns by default, but you can provide a second",
      "argument that specifies the number of degrees. For example, `lt(bob, 45)` turns `bob` 45",
      "degrees to the left.",
      "",
      "Make a copy of `square` and change the name to `polygon`. Add another parameter named `n`",
      "and modify the body so it draws an n-sided regular polygon. Hint: The exterior angles of an",
      "n-sided regular polygon are 360.0/n degrees."
     ]
    },
    {
     "cell_type": "code",
     "collapsed": true,
     "input": [
      "# Redefine square as polygon",
      "def polygon(t, n, length):",
      "    \"\"\"Draw a polygon with n sides of the specified length.  t is a turtle.",
      "    \"\"\"",
      "    ang = 360. / n",
      "    for i in range(n):",
      "        fd(t,length)",
      "        lt(t,ang)",
      "        ",
      "# Create the turtle",
      "world = TurtleWorld()",
      "bob = Turtle(world)",
      "bob.delay = 0.1",
      "",
      "# Draw some regular polygons with 3 to 6 sides",
      "for i in range(3,7):",
      "    polygon(bob,i,50)",
      "    ",
      "wait_for_user()"
     ],
     "language": "python",
     "outputs": [],
     "prompt_number": 9
    },
    {
     "cell_type": "markdown",
     "source": [
      "**4.3.4**",
      "Write a function called `circle` that takes a turtle, `t`, and radius, `r`, as parameters and that draws an approximate circle by invoking `polygon` with an appropriate length and number of sides. Test your function with a range of values of `r`.",
      "",
      "Hint: figure out the circumference of the circle and make sure that `length * n = circumference`.",
      "",
      "Another hint: if `bob` is too slow for you, you can speed him up by changing `bob.delay`, which is the time between moves, in seconds. `bob.delay = 0.01` ought to get him moving.",
      ""
     ]
    },
    {
     "cell_type": "code",
     "collapsed": true,
     "input": [
      "# Define a circle function that uses polygon",
      "def circle(t, r):",
      "    \"\"\"Draw a circle of radius r.  t is a turtle.",
      "    \"\"\"",
      "    side_length = 2 * math.pi * r / 360",
      "    polygon(t, 360, side_length)",
      "    ",
      "# Create the turtle",
      "world = TurtleWorld()",
      "bob = Turtle(world)",
      "bob.delay = 0",
      "",
      "# Draw some circles of various radii",
      "for i in range(1,5):",
      "    circle(bob, i * 10)",
      "",
      "wait_for_user()"
     ],
     "language": "python",
     "outputs": [],
     "prompt_number": 11
    },
    {
     "cell_type": "markdown",
     "source": [
      "**4.3.5**",
      "Make a more general version of `circle` called `arc` that takes an additional parameter `angle`, which determines what fraction of a circle to draw. `angle` is in units of degrees, so when `angle=360`, arc should draw a complete circle."
     ]
    },
    {
     "cell_type": "code",
     "collapsed": false,
     "input": [
      "# Define an arc function",
      "def arc(t, r, a):",
      "    \"\"\"Draw a circular arc of radius r over angle a.  t is a turtle.",
      "    \"\"\"",
      "    steps = math.ceil(a)",
      "    angle_step = a / steps",
      "    side_step = (2 * math.pi * r) * (a / 360.0) / steps",
      "    for i in range(int(steps)):",
      "        fd(t,side_step)",
      "        lt(t,angle_step)",
      "    ",
      "# Create the turtle",
      "world = TurtleWorld()",
      "bob = Turtle(world)",
      "bob.delay = 0",
      "",
      "# Draw a full circle",
      "arc(bob,100,360)",
      "",
      "# Draw a spiral",
      "for i in range(10):",
      "    arc(bob,100 / 1.5 ** i,90)",
      "    ",
      "wait_for_user()"
     ],
     "language": "python",
     "outputs": [],
     "prompt_number": 26
    }
   ]
  }
 ]
}