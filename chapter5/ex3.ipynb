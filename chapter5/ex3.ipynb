{
 "metadata": {
  "name": "ex3"
 },
 "nbformat": 3,
 "worksheets": [
  {
   "cells": [
    {
     "cell_type": "heading",
     "level": 1,
     "source": [
      "Exercise 5.3"
     ]
    },
    {
     "cell_type": "markdown",
     "source": [
      "Read the following function and see if you can figure out what it does. Then run it (see the examples in Chapter 4).",
      "    ",
      "    def draw(t, length, n):",
      "        if n == 0:",
      "            return",
      "        angle = 50",
      "        fd(t, length*n)",
      "        lt(t, angle)",
      "        draw(t, length, n-1)",
      "        rt(t, 2*angle)",
      "        draw(t, length, n-1)",
      "        lt(t, angle)",
      "        bk(t, length*n)"
     ]
    },
    {
     "cell_type": "markdown",
     "source": [
      "In this section, the turtle draws a line of length `n` and turned by 50 degrees before `draw` is called recursivly. This section generates a sort of spiral whose joints make 130 degree angles and whose segments get progressivly smaller.",
      "",
      "    angle = 50",
      "    fd(t, length*n)",
      "    lt(t, angle)",
      "    draw(t, length, n-1)",
      "",
      "Once `n == 0`, the turtle is turned to the right by 100 degrees and instructed to draw the same structure again",
      "",
      "    rt(t, 2*angle)",
      "    draw(t, length, n-1)",
      "",
      "Finally, the turtle is brought back to her oringinal position",
      "",
      "    lt(t, angle)",
      "    bk(t, length*n)",
      "",
      "Called recursivly, this function draws a branching, self-similar figure"
     ]
    },
    {
     "cell_type": "code",
     "collapsed": false,
     "input": [
      "import sys",
      "sys.path.append(\"../swampy-2.0/\")",
      "from TurtleWorld import *",
      "",
      "def draw(t, length, n):",
      "    if n == 0:",
      "        return",
      "    angle = 50",
      "    fd(t, length*n)",
      "    lt(t, angle)",
      "    draw(t, length, n-1)",
      "    rt(t, 2*angle)",
      "    draw(t, length, n-1)",
      "    lt(t, angle)",
      "    bk(t, length*n)",
      "    ",
      "world = TurtleWorld()",
      "turtle = Turtle(world)",
      "",
      "turtle.delay = 0.0",
      "draw(turtle, 5, 10)",
      "",
      "wait_for_user()"
     ],
     "language": "python",
     "outputs": [],
     "prompt_number": "*"
    },
    {
     "cell_type": "code",
     "collapsed": true,
     "input": [],
     "language": "python",
     "outputs": []
    }
   ]
  }
 ]
}