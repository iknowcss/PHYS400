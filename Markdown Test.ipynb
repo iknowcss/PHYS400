{
 "metadata": {
  "name": "Markdown Test"
 },
 "nbformat": 3,
 "worksheets": [
  {
   "cells": [
    {
     "cell_type": "markdown",
     "source": [
      "$$\\left(1+x\\right)^\\alpha=\\sum_{n=0}^\\infty\\binom{\\alpha}{n}x^n$$"
     ]
    },
    {
     "cell_type": "code",
     "collapsed": true,
     "input": [],
     "language": "python",
     "outputs": []
    }
   ]
  }
 ]
}