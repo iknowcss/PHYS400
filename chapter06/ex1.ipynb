{
 "metadata": {
  "name": "ex1"
 },
 "nbformat": 3,
 "worksheets": [
  {
   "cells": [
    {
     "cell_type": "heading",
     "level": 1,
     "source": [
      "Exercise 6.1"
     ]
    },
    {
     "cell_type": "markdown",
     "source": [
      "Write a `compare` function that returns `1` if `x > y`, `0` if `x == y`, and `-1` if `x < y`."
     ]
    },
    {
     "cell_type": "code",
     "collapsed": false,
     "input": [
      "# Define the compare function",
      "def compare(x, y):",
      "    \"\"\"Compares x to y. If x is smaller than y, return -1;",
      "    if x is larger than y, return 1; if x is equal to y, ",
      "    return 0",
      "    \"\"\"",
      "    if x > y:",
      "        return 1",
      "    elif x < y:",
      "        return -1",
      "    else:",
      "        return 0",
      "    ",
      "# Test with a few different values",
      "print compare(1,5)",
      "print compare(-1,-5)",
      "print compare(2.2,2.2)"
     ],
     "language": "python",
     "outputs": [
      {
       "output_type": "stream",
       "stream": "stdout",
       "text": [
        "-1",
        "1",
        "0"
       ]
      }
     ],
     "prompt_number": 7
    },
    {
     "cell_type": "code",
     "collapsed": true,
     "input": [],
     "language": "python",
     "outputs": []
    }
   ]
  }
 ]
}