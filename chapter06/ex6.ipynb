{
 "metadata": {
  "name": "ex6"
 },
 "nbformat": 3,
 "worksheets": [
  {
   "cells": [
    {
     "cell_type": "heading",
     "level": 1,
     "source": [
      "Exercise 6.6"
     ]
    },
    {
     "cell_type": "markdown",
     "source": [
      "A palindrome is a word that is spelled the same backward and forward, like \u201cnoon\u201d and \u201credivider\u201d. Recursively, a word is a palindrome if the first and last letters are the same and the middle is a palindrome.",
      "",
      "The following are functions that take a string argument and return the first, last, and middle letters:",
      "",
      "    def first(word):",
      "        return word[0]",
      "",
      "    def last(word):",
      "        return word[-1]",
      "",
      "    def middle(word):",
      "        return word[1:-1]"
     ]
    },
    {
     "cell_type": "markdown",
     "source": [
      "**6.6.1**",
      "Type these functions into a file named `palindrome.py` and test them out. What happens if you call `middle` with a string with two letters? One letter? What about the empty string, which is written '' and contains no letters?"
     ]
    },
    {
     "cell_type": "code",
     "collapsed": true,
     "input": [
      "# palindrome.py",
      "def first(word):",
      "    return word[0]",
      "",
      "def last(word):",
      "    return word[-1]",
      "",
      "def middle(word):",
      "    return word[1:-1]"
     ],
     "language": "python",
     "outputs": [],
     "prompt_number": 1
    },
    {
     "cell_type": "code",
     "collapsed": false,
     "input": [
      "# Test some various values on the middle function",
      "tests = [\"as\",\"\",\"abc\",\"abcd\"]",
      "for i in tests:",
      "    print \"middle('\" + i + \"')\\t\u2192 '\" + middle(i) + \"'\""
     ],
     "language": "python",
     "outputs": [
      {
       "output_type": "stream",
       "stream": "stdout",
       "text": [
        "middle('as')\t\u2192 ''",
        "middle('')\t\u2192 ''",
        "middle('abc')\t\u2192 'b'",
        "middle('abcd')\t\u2192 'bc'"
       ]
      }
     ],
     "prompt_number": 17
    },
    {
     "cell_type": "markdown",
     "source": [
      "**6.6.2**",
      "Write a function called `is_palindrome` that takes a string argument and returns `True` if it is a palindrome and `False` otherwise. Remember that you can use the built-in function `len` to check the length of a string."
     ]
    },
    {
     "cell_type": "code",
     "collapsed": false,
     "input": [
      "def is_palindrome(s):",
      "    if len(s) <= 1:",
      "        return True",
      "    elif s[0] == s[-1]:",
      "        return is_palindrome(middle(s))",
      "    else:",
      "        return False",
      "",
      "tests = [\"\",\"a\",\"aa\",\"as\",\"ADA\",\"arc\",\"peep\",\"peel\"]",
      "for i in tests:",
      "    print \"is_palindrome('\" + i + \"')\\t\u2192 \" + str(is_palindrome(i))"
     ],
     "language": "python",
     "outputs": [
      {
       "output_type": "stream",
       "stream": "stdout",
       "text": [
        "is_palindrome('')\t\u2192 True",
        "is_palindrome('a')\t\u2192 True",
        "is_palindrome('aa')\t\u2192 True",
        "is_palindrome('as')\t\u2192 False",
        "is_palindrome('ADA')\t\u2192 True",
        "is_palindrome('arc')\t\u2192 False",
        "is_palindrome('peep')\t\u2192 True",
        "is_palindrome('peel')\t\u2192 False"
       ]
      }
     ],
     "prompt_number": 23
    }
   ]
  }
 ]
}