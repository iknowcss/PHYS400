{
 "metadata": {
  "name": "ex2"
 },
 "nbformat": 3,
 "worksheets": [
  {
   "cells": [
    {
     "cell_type": "heading",
     "level": 1,
     "source": [
      "Exercise 6.2"
     ]
    },
    {
     "cell_type": "markdown",
     "source": [
      "Use incremental development to write a function called `hypotenuse` that returns the length of the hypotenuse of a right triangle given the lengths of the two legs as arguments. Record each stage of the development process as you go."
     ]
    },
    {
     "cell_type": "markdown",
     "source": [
      "We'll start by writing a short script that calculates the hypotenuse from two lengths `a` and `b`"
     ]
    },
    {
     "cell_type": "code",
     "collapsed": false,
     "input": [
      "a = 3",
      "b = 4",
      "print math.sqrt(a ** 2 + b ** 2)"
     ],
     "language": "python",
     "outputs": [
      {
       "output_type": "stream",
       "stream": "stdout",
       "text": [
        "5.0"
       ]
      }
     ],
     "prompt_number": 1
    },
    {
     "cell_type": "markdown",
     "source": [
      "As we expect, the hypotenuse of a 3-4-5 triangle has length 5. Now we replace the `print` statement with a `return` statement and wrap the body in a function definition with a docstring"
     ]
    },
    {
     "cell_type": "code",
     "collapsed": true,
     "input": [
      "def hypotenuse(a, b):",
      "    \"\"\"Calculates the length of the hypotenuse of a right triangle with ",
      "    legs of length a and b",
      "    \"\"\"",
      "    return math.sqrt(a ** 2 + b ** 2)"
     ],
     "language": "python",
     "outputs": [],
     "prompt_number": 3
    },
    {
     "cell_type": "markdown",
     "source": [
      "Now we test the function with several values"
     ]
    },
    {
     "cell_type": "code",
     "collapsed": false,
     "input": [
      "print hypotenuse(3, 4) # Should yield 5",
      "print hypotenuse(1, 1) # Should yield 1.4142..."
     ],
     "language": "python",
     "outputs": [
      {
       "output_type": "stream",
       "stream": "stdout",
       "text": [
        "5.0",
        "1.41421356237"
       ]
      }
     ],
     "prompt_number": 9
    },
    {
     "cell_type": "code",
     "collapsed": true,
     "input": [],
     "language": "python",
     "outputs": []
    }
   ]
  }
 ]
}