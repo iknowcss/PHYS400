{
 "metadata": {
  "name": "ex5"
 },
 "nbformat": 3,
 "worksheets": [
  {
   "cells": [
    {
     "cell_type": "heading",
     "level": 1,
     "source": [
      "Exercise 6.5"
     ]
    },
    {
     "cell_type": "markdown",
     "source": [
      "The Ackermann function, $A(m, n)$, is defined",
      "<table style=\"border:none !important\">",
      "    <tr style=\"border:none !important\">",
      "        <td style=\"border:none !important\">$A(m,n)=$</td>",
      "        <td style=\"border:none !important\">$n+1$</td>",
      "        <td style=\"border:none !important\">if $m = 0$</td>",
      "    </tr>",
      "    <tr style=\"border:none !important\">",
      "        <td style=\"border:none !important\">&nbsp;</td>",
      "        <td style=\"border:none !important\">$A(m-1,1)$</td>",
      "        <td style=\"border:none !important\">if $m > 0$ and $n = 0$</td>",
      "    </tr>",
      "    <tr style=\"border:none !important\">",
      "        <td style=\"border:none !important\">&nbsp;</td>",
      "        <td style=\"border:none !important\">$A(m-1,A(m,n-1))$&nbsp;&nbsp;&nbsp;</td>",
      "        <td style=\"border:none !important\">if $m > 0$ and $n > 0$</td>",
      "    </tr>",
      "</table>",
      "Write a function named `ack` that evaluates Ackerman\u2019s function. Use your function to evaluate `ack(3, 4)`, which should be 125. What happens for larger values of `m` and `n`?"
     ]
    },
    {
     "cell_type": "code",
     "collapsed": false,
     "input": [
      "def ack(m, n, verify=True):",
      "    # Verify that the values are valid only if verify",
      "    # is True. When we recurse, we pass false so that",
      "    # verification only occurs on the initial call",
      "    if verify:",
      "        for i in [m, n]:",
      "            if not isinstance(i, int):",
      "                raise Exception(str(i) + \" is not an integer\")",
      "            elif i < 0:",
      "                raise Exception(\"All arguments must be positive. \" + str(i) + \" is negative\")",
      "    ",
      "    # Ackermann function",
      "    if m == 0:",
      "        return n + 1",
      "    elif m > 0 and n == 0:",
      "        return ack(m - 1,1,False)",
      "    else m > 0 and n > 0:",
      "        return ack(m - 1,ack(m,n - 1,False),False)",
      "",
      "# Should return 125",
      "print ack(3,4)",
      "",
      "# Larger value of m",
      "# print ack(4,4) -- Removed this from evaluation because it recurses too deep",
      "",
      "# Larger value of n",
      "print ack(3,6)"
     ],
     "language": "python",
     "outputs": [
      {
       "output_type": "stream",
       "stream": "stdout",
       "text": [
        "125",
        "509"
       ]
      },
      {
       "output_type": "stream",
       "stream": "stdout",
       "text": []
      }
     ],
     "prompt_number": 3
    },
    {
     "cell_type": "code",
     "collapsed": true,
     "input": [],
     "language": "python",
     "outputs": []
    }
   ]
  }
 ]
}