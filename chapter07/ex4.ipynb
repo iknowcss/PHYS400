{
 "metadata": {
  "name": "ex4"
 },
 "nbformat": 3,
 "worksheets": [
  {
   "cells": [
    {
     "cell_type": "heading",
     "level": 1,
     "source": [
      "Exercise 7.4"
     ]
    },
    {
     "cell_type": "markdown",
     "source": [
      "The built-in function `eval` takes a string and evaluates it using the Python interpreter. For example:",
      "",
      "`>>> eval('1 + 2 * 3')`<br />",
      "`7`<br />",
      "`>>> import math`<br />",
      "`>>> eval('math.sqrt(5)')`<br />",
      "`2.2360679774997898`<br />",
      "`>>> eval('type(math.pi)')`<br />",
      "`<type 'float'>`",
      "",
      "Write a function called `eval_loop` that iteratively prompts the user, takes the resulting input and evaluates it using `eval`, and prints the result."
     ]
    },
    {
     "cell_type": "code",
     "collapsed": true,
     "input": [
      "def eval_loop():",
      "    \"\"\"Takes input from the user and evaluates it using the python",
      "    interpreter until the user types \"done\" at which point eval_loop()",
      "    returns the last evaluated result",
      "    \"\"\"",
      "    i = 1",
      "    result = None",
      "    while True:",
      "        print \"In [\" + str(i) + \"]:\",",
      "        instruction = raw_input();",
      "        if instruction == \"done\":",
      "            return result;",
      "        result = eval(instruction)",
      "        print result",
      "        i += 1"
     ],
     "language": "python",
     "outputs": [],
     "prompt_number": 4
    },
    {
     "cell_type": "markdown",
     "source": [
      "*Note*: This function is also defined and called in **ex4.py** for evaluation purposes"
     ]
    }
   ]
  }
 ]
}