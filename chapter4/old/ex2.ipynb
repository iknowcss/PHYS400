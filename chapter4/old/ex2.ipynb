{
 "metadata": {
  "name": "ex2"
 },
 "nbformat": 3,
 "worksheets": [
  {
   "cells": [
    {
     "cell_type": "heading",
     "level": 1,
     "source": [
      "Exercise 2"
     ]
    },
    {
     "cell_type": "code",
     "collapsed": true,
     "input": [
      "import sys",
      "sys.path.append(\"../swampy-2.0/\")",
      "from TurtleWorld import *"
     ],
     "language": "python",
     "outputs": [],
     "prompt_number": 1
    },
    {
     "cell_type": "heading",
     "level": 3,
     "source": [
      "Write an appropriately general set of functions that can draw flowers"
     ]
    },
    {
     "cell_type": "code",
     "collapsed": true,
     "input": [
      "def arc(turtle, r, a):",
      "    step_length = 2 * math.pi * r / 360.0",
      "    angle_step_count = int(math.ceil(a))",
      "    angle_step = a / float(angle_step_count)",
      "    for i in range(angle_step_count):",
      "        fd(turtle, step_length)",
      "        lt(turtle, angle_step)",
      "    ",
      "def petal(turtle, r, a):",
      "    pr = r / 2 / math.sin(a / 2 * math.pi / 180)",
      "    for i in range(2):",
      "        arc(turtle, pr, a)",
      "        lt(turtle, 180 - a)",
      "    ",
      "def flower(turtle, n, r, a):",
      "    rot_angle = 360.0 / n",
      "    rt(turtle, a / 2.0)",
      "    for i in range(n):",
      "        petal(turtle, r, a)",
      "        lt(turtle, rot_angle)",
      "    lt(turtle, a / 2.0)",
      "    "
     ],
     "language": "python",
     "outputs": [],
     "prompt_number": 4
    },
    {
     "cell_type": "code",
     "collapsed": false,
     "input": [
      "# Create the turtle",
      "world = TurtleWorld()",
      "turtle = Turtle(world)",
      "turtle.delay = 0",
      "",
      "# Specify some constants for drawing",
      "flower_size = 50;",
      "separation = 2.2;",
      "",
      "# Move the turtle to the 1st flower position and draw a",
      "# 7-petal flower",
      "pu(turtle)",
      "bk(turtle, separation * flower_size)",
      "pd(turtle)",
      "flower(turtle, 7, 50, 60)",
      "",
      "# Move the turtle to the 2nd flower position and draw a",
      "# 10-petal flower with wide petals",
      "pu(turtle)",
      "fd(turtle, separation * flower_size)",
      "pd(turtle)",
      "flower(turtle, 10, 50, 75)",
      "",
      "# Move the turtle to the 3nd flower position and draw a",
      "# 20-petal flower with thin petals",
      "pu(turtle)",
      "fd(turtle, separation * flower_size)",
      "pd(turtle)",
      "flower(turtle, 20, 50, 20)",
      "",
      "# Move the turtle to away from the flowers and turn her towards them ",
      "# so that she may admire them",
      "pu(turtle)",
      "for i in range(2):",
      "    rt(turtle)",
      "    fd(turtle, separation * flower_size)",
      "rt(turtle)",
      "",
      "# Wait for user action",
      "wait_for_user()"
     ],
     "language": "python",
     "outputs": [],
     "prompt_number": "*"
    },
    {
     "cell_type": "code",
     "collapsed": true,
     "input": [],
     "language": "python",
     "outputs": []
    }
   ]
  }
 ]
}