{
 "metadata": {
  "name": "ex04"
 },
 "nbformat": 3,
 "worksheets": [
  {
   "cells": [
    {
     "cell_type": "heading",
     "level": 1,
     "source": [
      "Exercise 10.4"
     ]
    },
    {
     "cell_type": "markdown",
     "source": [
      "Two words are anagrams if you can rearrange the letters from one to spell the other. Write a function called `is_anagram` that takes two strings and returns `True` if they are anagrams."
     ]
    },
    {
     "cell_type": "code",
     "collapsed": false,
     "input": [
      "# Function definition",
      "def is_anagram(s1,s2):",
      "    \"\"\"Takes two string arguments s1 and s2. If the two strings",
      "    are anagrams of each other, returns True; else False",
      "    \"\"\"",
      "    l1 = list(s1)",
      "    l2 = list(s2)",
      "    l1.sort()",
      "    l2.sort()",
      "    return l1 == l2",
      "",
      "# Tests",
      "tests = [[\"dog\",\"god\"],[\"frog\",\"golf\"],[\"eleven plus two\",\"twelve plus one\"]]",
      "for test in tests:",
      "    print \">>> is_anagram(\\\"\" + test[0] + \"\\\",\\\"\" + test[1] + \"\\\")\"",
      "    print is_anagram(test[0],test[1])"
     ],
     "language": "python",
     "outputs": [
      {
       "output_type": "stream",
       "stream": "stdout",
       "text": [
        ">>> is_anagram(\"dog\",\"god\")",
        "True",
        ">>> is_anagram(\"frog\",\"golf\")",
        "False",
        ">>> is_anagram(\"eleven plus two\",\"twelve plus one\")",
        "True"
       ]
      }
     ],
     "prompt_number": 1
    },
    {
     "cell_type": "code",
     "collapsed": true,
     "input": [],
     "language": "python",
     "outputs": []
    }
   ]
  }
 ]
}