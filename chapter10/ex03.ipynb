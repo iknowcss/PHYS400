{
 "metadata": {
  "name": "ex03"
 },
 "nbformat": 3,
 "worksheets": [
  {
   "cells": [
    {
     "cell_type": "heading",
     "level": 1,
     "source": [
      "Exercise 10.3"
     ]
    },
    {
     "cell_type": "markdown",
     "source": [
      "Write a function called `is_sorted` that takes a list as a parameter and returns True if the list is sorted in ascending order and `False` otherwise. You can assume (as a precondition) that the elements of the list can be compared with the relational operators <, >, etc.",
      "",
      "For example, `is_sorted([1,2,2])` should return `True` and `is_sorted(['b','a'])` should re-turn `False`."
     ]
    },
    {
     "cell_type": "code",
     "collapsed": false,
     "input": [
      "# is_sorted definitoin",
      "def is_sorted(l):",
      "    s = list(l)",
      "    s.sort()",
      "    return s == l",
      "",
      "# Tests",
      "tests = [[1,2,2],['b','a'],[-1,-2,-3],[-1,2,3]]",
      "for test in tests:",
      "    print \">>> is_sorted(\" + str(test) + \")\"",
      "    print is_sorted(test)",
      "    print"
     ],
     "language": "python",
     "outputs": [
      {
       "output_type": "stream",
       "stream": "stdout",
       "text": [
        ">>> is_sorted([1, 2, 2])",
        "True",
        "",
        ">>> is_sorted(['b', 'a'])",
        "False",
        "",
        ">>> is_sorted([-1, -2, -3])",
        "False",
        "",
        ">>> is_sorted([-1, 2, 3])",
        "True",
        ""
       ]
      }
     ],
     "prompt_number": 4
    },
    {
     "cell_type": "code",
     "collapsed": true,
     "input": [],
     "language": "python",
     "outputs": []
    }
   ]
  }
 ]
}