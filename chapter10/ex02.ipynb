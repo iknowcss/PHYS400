{
 "metadata": {
  "name": "ex02"
 },
 "nbformat": 3,
 "worksheets": [
  {
   "cells": [
    {
     "cell_type": "heading",
     "level": 1,
     "source": [
      "Exercise 10.2"
     ]
    },
    {
     "cell_type": "markdown",
     "source": [
      "Write a function called `chop` that takes a list and modifies it, removing the first and",
      "last elements, and returns None."
     ]
    },
    {
     "cell_type": "code",
     "collapsed": false,
     "input": [
      "# Function definition for chop",
      "def chop(l):",
      "    \"\"\"Removes the first and last elements of the provided ",
      "    list l and returns None",
      "    \"\"\"",
      "    l_len = len(l)",
      "    if l_len >= 1:",
      "        del l[0]",
      "    if l_len >= 2:",
      "        l.pop()",
      "    return None;",
      "    ",
      "# chop Tests",
      "tests = [[],[1],[1,2],[1,2,3],[1,2,3,4,5]]",
      "for test in tests:",
      "    print \">>> a =\",test",
      "    print \">>> chop(a)\"",
      "    print \">>> a\"",
      "    chop(test)",
      "    print test"
     ],
     "language": "python",
     "outputs": [
      {
       "output_type": "stream",
       "stream": "stdout",
       "text": [
        "chop([]) -> []",
        "chop([1]) -> []",
        "chop([1, 2]) -> []",
        "chop([1, 2, 3]) -> [2]",
        "chop([1, 2, 3, 4, 5]) -> [2, 3, 4]"
       ]
      }
     ],
     "prompt_number": 15
    },
    {
     "cell_type": "markdown",
     "source": [
      "Then write a function called `middle` that takes a list and returns a new list that contains all but the",
      "first and last elements"
     ]
    },
    {
     "cell_type": "code",
     "collapsed": false,
     "input": [
      "# Function definition for middle",
      "def middle(l):",
      "    new_l = list(l)",
      "    chop(new_l)",
      "    return new_l",
      "",
      "# middle Tests",
      "tests = [[],[1],[1,2],[1,2,3],[1,2,3,4,5]]",
      "for test in tests:",
      "    print \"middle(\" + str(test) + \") ->\",",
      "    print middle(test)"
     ],
     "language": "python",
     "outputs": [
      {
       "output_type": "stream",
       "stream": "stdout",
       "text": [
        "middle([]) -> []",
        "middle([1]) -> []",
        "middle([1, 2]) -> []",
        "middle([1, 2, 3]) -> [2]",
        "middle([1, 2, 3, 4, 5]) -> [2, 3, 4]"
       ]
      }
     ],
     "prompt_number": 16
    },
    {
     "cell_type": "code",
     "collapsed": true,
     "input": [],
     "language": "python",
     "outputs": []
    }
   ]
  }
 ]
}