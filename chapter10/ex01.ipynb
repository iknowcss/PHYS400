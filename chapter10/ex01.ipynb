{
 "metadata": {
  "name": "ex01"
 },
 "nbformat": 3,
 "worksheets": [
  {
   "cells": [
    {
     "cell_type": "heading",
     "level": 1,
     "source": [
      "Exercise 10.1"
     ]
    },
    {
     "cell_type": "markdown",
     "source": [
      "Write a function that takes a list of numbers and returns the cumulative sum; that is, a new list where the *ith* element is the sum of the first $i + 1$ elements from the original list. For example, the cumulative sum of `[1, 2, 3]` is `[1, 3, 6]`."
     ]
    },
    {
     "cell_type": "code",
     "collapsed": false,
     "input": [
      "# Function definition",
      "def cum_sum(numbers):",
      "    \"\"\"Takes the list of numbers and returns the cumulative sum",
      "    as a new list",
      "    \"\"\"",
      "    res = list(numbers)",
      "    for i in range(1,len(res)):",
      "        res[i] += res[i-1]",
      "    return res",
      "",
      "# Tests",
      "tests = [[1,2,3],[-1,3,2],[-1,0,0]]",
      "for test in tests:",
      "    print \"cum_sum(\" + str(test) + \") ->\",",
      "    print cum_sum(test)"
     ],
     "language": "python",
     "outputs": [
      {
       "output_type": "stream",
       "stream": "stdout",
       "text": [
        "cum_sum([1, 2, 3]) -> [1, 3, 6]",
        "cum_sum([-1, 3, 2]) -> [-1, 2, 4]",
        "cum_sum([-1, 0, 0]) -> [-1, -1, -1]"
       ]
      }
     ],
     "prompt_number": 28
    },
    {
     "cell_type": "code",
     "collapsed": true,
     "input": [],
     "language": "python",
     "outputs": []
    }
   ]
  }
 ]
}