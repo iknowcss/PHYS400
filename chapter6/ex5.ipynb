{
 "metadata": {
  "name": "ex5"
 },
 "nbformat": 3,
 "worksheets": [
  {
   "cells": [
    {
     "cell_type": "code",
     "collapsed": true,
     "input": [],
     "language": "python",
     "outputs": []
    }
   ]
  }
 ]
}