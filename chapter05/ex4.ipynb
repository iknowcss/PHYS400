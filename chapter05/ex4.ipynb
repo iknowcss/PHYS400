{
 "metadata": {
  "name": "ex4"
 },
 "nbformat": 3,
 "worksheets": [
  {
   "cells": [
    {
     "cell_type": "heading",
     "level": 1,
     "source": [
      "Exercise 5.4"
     ]
    },
    {
     "cell_type": "markdown",
     "source": [
      "The Koch curve is a fractal that looks something like this:"
     ]
    },
    {
     "cell_type": "code",
     "collapsed": false,
     "input": [
      "from IPython.core.display import Image",
      "Image(filename='koch.png')"
     ],
     "language": "python",
     "outputs": [
      {
       "output_type": "pyout",
       "png": "[encoded data removed]",
       "prompt_number": 4,
       "text": [
        "<IPython.core.display.Image at 0x373b450>"
       ]
      }
     ],
     "prompt_number": 4
    },
    {
     "cell_type": "markdown",
     "source": [
      "To draw a Koch curve with length x, all you have to do is",
      "",
      "1. Draw a Koch curve with length x/3.",
      "2. Turn left 60 degrees.",
      "3. Draw a Koch curve with length x/3.",
      "4. Turn right 120 degrees.",
      "5. Draw a Koch curve with length x/3.",
      "6. Turn left 60 degrees.",
      "7. Draw a Koch curve with length x/3.",
      "",
      "The only exception is if x is less than 3. In that case, you can just draw a straight line with length x."
     ]
    },
    {
     "cell_type": "markdown",
     "source": [
      "**5.4.1**",
      "Write a function called `koch` that takes a turtle and a length as parameters, and that uses the",
      "turtle to draw a Koch curve with the given length."
     ]
    },
    {
     "cell_type": "code",
     "collapsed": true,
     "input": [
      "import sys",
      "sys.path.append(\"../swampy-2.0/\")",
      "from TurtleWorld import *"
     ],
     "language": "python",
     "outputs": [],
     "prompt_number": 6
    },
    {
     "cell_type": "code",
     "collapsed": true,
     "input": [
      "def koch(t, x):",
      "    \"\"\"Draws a Koch curve of size x using the specified turtle t ",
      "    \"\"\"",
      "    if x < 3:",
      "        fd(t, x)",
      "        return",
      "    koch(t, x / 3.0)",
      "    lt(t, 60)",
      "    koch(t, x / 3.0)",
      "    rt(t, 120)",
      "    koch(t, x / 3.0)",
      "    lt(t, 60)",
      "    koch(t, x / 3.0)"
     ],
     "language": "python",
     "outputs": [],
     "prompt_number": 5
    },
    {
     "cell_type": "code",
     "collapsed": false,
     "input": [
      "world = TurtleWorld()",
      "turtle = Turtle(world)",
      "turtle.delay = 0.0",
      "length = 200",
      "",
      "try:",
      "    # Position the turtle",
      "    pu(turtle)",
      "    bk(turtle, length / 2.)",
      "    pd(turtle)",
      "    ",
      "    # Draw the curve",
      "    koch(turtle, 200)",
      "finally:",
      "    wait_for_user()"
     ],
     "language": "python",
     "outputs": [],
     "prompt_number": 15
    },
    {
     "cell_type": "markdown",
     "source": [
      "**5.4.2**",
      "Write a function called `snowflake` that draws three Koch curves to make the outline of a snowflake."
     ]
    },
    {
     "cell_type": "code",
     "collapsed": true,
     "input": [
      "def snowflake(t, x):",
      "    \"\"\"Draws a snowflake outline using 3 Koch curves of size x drawn by",
      "    the specified turtle t ",
      "    \"\"\"",
      "    for i in range(3):",
      "        koch(t, x)",
      "        rt(t, 120)"
     ],
     "language": "python",
     "outputs": [],
     "prompt_number": 22
    },
    {
     "cell_type": "code",
     "collapsed": false,
     "input": [
      "world = TurtleWorld()",
      "turtle = Turtle(world)",
      "turtle.delay = 0.0",
      "length = 200",
      "",
      "try:",
      "    # Position the turtle",
      "    pu(turtle)",
      "    lt(turtle)",
      "    fd(turtle,length * math.cos(math.pi / 3) / 2)",
      "    rt(turtle)",
      "    bk(turtle, length / 2.)",
      "    pd(turtle)",
      "    ",
      "    # Draw the snowflake",
      "    snowflake(turtle, 200)",
      "finally:",
      "    wait_for_user()"
     ],
     "language": "python",
     "outputs": [],
     "prompt_number": 21
    },
    {
     "cell_type": "code",
     "collapsed": true,
     "input": [],
     "language": "python",
     "outputs": []
    }
   ]
  }
 ]
}