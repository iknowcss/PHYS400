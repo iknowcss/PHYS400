{
 "metadata": {
  "name": "ex2"
 },
 "nbformat": 3,
 "worksheets": [
  {
   "cells": [
    {
     "cell_type": "heading",
     "level": 1,
     "source": [
      "Exercise 5.2"
     ]
    },
    {
     "cell_type": "markdown",
     "source": [
      "If you are given three sticks, you may or may not be able to arrange them in a triangle. For example, if one of the sticks is 12 inches long and the other two are one inch long, it is clear that you will not be able to get the short sticks to meet in the middle. For any three lengths, there is a simple test to see if it is possible to form a triangle:",
      "",
      "\u201cIf any of the three lengths is greater than the sum of the other two, then you cannot form a triangle. Otherwise, you can. If the sum of two lengths equals the third, they form what is called a 'degenerate' triangle.\u201d"
     ]
    },
    {
     "cell_type": "markdown",
     "source": [
      "**5.2.1**",
      "Write a function named `is_triangle` that takes three integers as arguments, and that prints",
      "either \u201cYes\u201d or \u201cNo,\u201d depending on whether you can or cannot form a triangle from sticks",
      "with the given lengths."
     ]
    },
    {
     "cell_type": "code",
     "collapsed": true,
     "input": [
      "# Define the is_triangle function",
      "def is_triangle(a, b, c):",
      "    \"\"\"If three sticks of lengths a, b, and c may be ",
      "    arranged to form a triangle, print Yes; otherwise, ",
      "    print No.",
      "    \"\"\"",
      "    sides = [a, b, c]",
      "    sides.sort()",
      "    if (sides[0] + sides[1] >= sides[2]):",
      "        print \"Yes\"",
      "    else:",
      "        print \"No\""
     ],
     "language": "python",
     "outputs": [],
     "prompt_number": 1
    },
    {
     "cell_type": "markdown",
     "source": [
      "**5.2.2**",
      "Write a function that prompts the user to input three stick lengths, converts them to integers, and uses `is_triangle` to check whether sticks with the given lengths can form a triangle."
     ]
    },
    {
     "cell_type": "code",
     "collapsed": true,
     "input": [
      "# Define a function that gets 3 side lengths from the user and uses",
      "# is_triangle to determine whether or not a triangle can be made ",
      "# using those lengths",
      "def prompt_triangle():",
      "    \"\"\"Gets 3 side lengths from the user and uses is_triangle to determine ",
      "    whether or not a triangle can be made using those lengths",
      "    \"\"\"",
      "    print \"Input 3 lengths to be used as triangle sides:\"",
      "    a = int(raw_input(\" a = \"));",
      "    b = int(raw_input(\" b = \"));",
      "    c = int(raw_input(\" c = \"));",
      "",
      "    print \"Can you make a triangle from these side lengths?\"",
      "    is_triangle(a, b, c)"
     ],
     "language": "python",
     "outputs": [],
     "prompt_number": 1
    },
    {
     "cell_type": "markdown",
     "source": [
      "*Note*: To test these functions, run `python ex2.py`"
     ]
    }
   ]
  }
 ]
}