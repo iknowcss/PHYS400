{
 "metadata": {
  "name": "ex4"
 },
 "nbformat": 3,
 "worksheets": [
  {
   "cells": [
    {
     "cell_type": "heading",
     "level": 1,
     "source": [
      "Exercise 8.4"
     ]
    },
    {
     "cell_type": "markdown",
     "source": [
      "Modify `find` so that it has a third parameter, the index in `word` where it should start looking."
     ]
    },
    {
     "cell_type": "code",
     "collapsed": false,
     "input": [
      "def find(word, letter, start=0):",
      "    \"\"\"Takes the word provided and searches for the ",
      "    character specified by letter starting at the index",
      "    start",
      "    \"\"\"",
      "    index = start",
      "    while index < len(word):",
      "        if word[index] == letter:",
      "            return index",
      "        index = index + 1",
      "    return -1",
      "",
      "tests = [",
      "    [\"remote\",\"e\",0],",
      "    [\"remote\",\"e\",2],",
      "    [\"remote\",\"x\",0]",
      "]",
      "for test in tests:",
      "    message  = \"'\" + test[1] + \"' is at index \"",
      "    message += str(find(test[0],test[1],test[2]))",
      "    message += \" of word \\\"\" + test[0] + \"\\\"\"",
      "    message += \" starting search at index \" + str(test[2])",
      "    print message"
     ],
     "language": "python",
     "outputs": [
      {
       "output_type": "stream",
       "stream": "stdout",
       "text": [
        "'e' is at index 1 of word \"remote\" starting search at index 0",
        "'e' is at index 5 of word \"remote\" starting search at index 2",
        "'x' is at index -1 of word \"remote\" starting search at index 0"
       ]
      }
     ],
     "prompt_number": 13
    },
    {
     "cell_type": "code",
     "collapsed": true,
     "input": [],
     "language": "python",
     "outputs": []
    }
   ]
  }
 ]
}