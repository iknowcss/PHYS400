{
 "metadata": {
  "name": "ex1"
 },
 "nbformat": 3,
 "worksheets": [
  {
   "cells": [
    {
     "cell_type": "heading",
     "level": 1,
     "source": [
      "Exercise 8.1"
     ]
    },
    {
     "cell_type": "markdown",
     "source": [
      "Write a function that takes a string as an argument and displays the letters backward, one per line."
     ]
    },
    {
     "cell_type": "code",
     "collapsed": false,
     "input": [
      "def reverse(s):",
      "    \"\"\"Take the string s and print its contents ",
      "    in reverse order\"\"\"",
      "    l = len(s)",
      "    sr = \"\"",
      "    for i in range(l):",
      "        sr += s[l-i-1]",
      "        ",
      "    print sr",
      "    ",
      "# Try some examples",
      "for s in [\"\",\"a\",\"ab\",\"abcdefg\"]:",
      "    print \"\\\"\" + s + \"\\\" ->\",",
      "    reverse(s)"
     ],
     "language": "python",
     "outputs": [
      {
       "output_type": "stream",
       "stream": "stdout",
       "text": [
        "\"\" -> ",
        "\"a\" -> a",
        "\"ab\" -> ba",
        "\"abcdefg\" -> gfedcba"
       ]
      }
     ],
     "prompt_number": 20
    }
   ]
  }
 ]
}