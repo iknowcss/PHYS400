{
 "metadata": {
  "name": "ex10"
 },
 "nbformat": 3,
 "worksheets": [
  {
   "cells": [
    {
     "cell_type": "heading",
     "level": 1,
     "source": [
      "Exercise 8.10"
     ]
    },
    {
     "cell_type": "markdown",
     "source": [
      "Read the documentation of the string methods at `docs.python.org/lib/string-methods.html`. You might want to experiment with some of them to make sure you understand how they work. `strip` and `replace` are particularly useful."
     ]
    },
    {
     "cell_type": "code",
     "collapsed": false,
     "input": [
      "# Strip",
      "url = \"   http://www.google.com? \"",
      "print \"Make sure that your URLs are valid and not padded with whitespace\"",
      "print \"\\\"\" + url + \"\\\"\"",
      "print \"should be\"",
      "print \"\\\"\" + url.strip(\" ?\") + \"\\\"\""
     ],
     "language": "python",
     "outputs": [
      {
       "output_type": "stream",
       "stream": "stdout",
       "text": [
        "Make sure that your URLs are valid and not padded with whitespace",
        "\"   http://www.google.com? \"",
        "should be",
        "\"http://www.google.com\""
       ]
      }
     ],
     "prompt_number": 4
    },
    {
     "cell_type": "code",
     "collapsed": false,
     "input": [
      "# Replace",
      "cap =     \"+------+------+------+------+------+\"",
      "header  = cap",
      "header += \"\\n| Mon. | Tue. | Wed. | Thr. | Fri. |\\n\"",
      "header += cap",
      "schedule = \"| Alan | Jill | Alan | Alan | Rick |\"",
      "",
      "print \"Our schedule had Alan working three times this week,\",",
      "print \"but Jill will have to take over the first two shifts\"",
      "print \"Current schedule:\"",
      "print header",
      "print schedule",
      "print cap",
      "print",
      "print \"New schedule:\"",
      "print header",
      "print schedule.replace(\"Alan\",\"Jill\",2)",
      "print cap"
     ],
     "language": "python",
     "outputs": [
      {
       "output_type": "stream",
       "stream": "stdout",
       "text": [
        "Our schedule had Alan working three times this week,",
        "but Jill will have to take over the first two shifts",
        "Current schedule:",
        "+------+------+------+------+------+",
        "| Mon. | Tue. | Wed. | Thr. | Fri. |",
        "+------+------+------+------+------+",
        "| Alan | Jill | Alan | Alan | Rick |",
        "+------+------+------+------+------+",
        "",
        "New schedule:",
        "+------+------+------+------+------+",
        "| Mon. | Tue. | Wed. | Thr. | Fri. |",
        "+------+------+------+------+------+",
        "| Jill | Jill | Jill | Alan | Rick |",
        "+------+------+------+------+------+"
       ]
      }
     ],
     "prompt_number": 3
    },
    {
     "cell_type": "code",
     "collapsed": true,
     "input": [],
     "language": "python",
     "outputs": []
    }
   ]
  }
 ]
}