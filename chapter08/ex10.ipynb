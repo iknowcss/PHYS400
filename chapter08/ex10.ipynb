{
 "metadata": {
  "name": "ex10"
 },
 "nbformat": 3,
 "worksheets": [
  {
   "cells": [
    {
     "cell_type": "heading",
     "level": 1,
     "source": [
      "Exercise 8.10"
     ]
    },
    {
     "cell_type": "markdown",
     "source": [
      "Read the documentation of the string methods at `docs.python.org/lib/string-methods.html`. You might want to experiment with some of them to make sure you understand how they work. `strip` and `replace` are particularly useful."
     ]
    },
    {
     "cell_type": "code",
     "collapsed": true,
     "input": [
      "# Strip"
     ],
     "language": "python",
     "outputs": [],
     "prompt_number": 1
    },
    {
     "cell_type": "code",
     "collapsed": false,
     "input": [
      "# Replace",
      "cap     = \"+------+------+------+------+------+\"",
      "header  = cap",
      "header += \"\\n| Mon. | Tue. | Wed. | Thr. | Fri. |\\n\"",
      "header += cap",
      "schedule = \"| Alan | Jill | Alan | Alan | Rick |\"",
      "",
      "print \"Our schedule had Alan working three times this week,\",",
      "print \"but Jill will have to take over the first two shifts\"",
      "print \"Current schedule:\"",
      "print header",
      "print schedule",
      "print cap",
      "print",
      "print \"New schedule:\"",
      "print header",
      "print schedule.replace(\"Alan\",\"Jill\",2)",
      "print cap"
     ],
     "language": "python",
     "outputs": [
      {
       "output_type": "stream",
       "stream": "stdout",
       "text": [
        "Translate message \"A veces yo hablo Espa\u00f1ol\"",
        "Sometimes I speak Spanish",
        "",
        "Our schedule had Alan working three times this week,",
        "but Jill will have to take over the first two shifts",
        "Current schedule:",
        "+------+------+------+------+------+",
        "| Mon. | Tue. | Wed. | Thr. | Fri. |",
        "+------+------+------+------+------+",
        "| Alan | Jill | Alan | Alan | Rick |",
        "+------+------+------+------+------+",
        "",
        "New schedule:",
        "+------+------+------+------+------+",
        "| Mon. | Tue. | Wed. | Thr. | Fri. |",
        "+------+------+------+------+------+",
        "| Jill | Jill | Jill | Alan | Rick |",
        "+------+------+------+------+------+"
       ]
      }
     ],
     "prompt_number": 18
    },
    {
     "cell_type": "code",
     "collapsed": true,
     "input": [],
     "language": "python",
     "outputs": []
    }
   ]
  }
 ]
}